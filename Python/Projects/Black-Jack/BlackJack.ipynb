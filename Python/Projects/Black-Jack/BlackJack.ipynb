{
 "cells": [
  {
   "cell_type": "code",
   "execution_count": 1,
   "metadata": {},
   "outputs": [],
   "source": [
    "import random\n",
    "\n",
    "suits = ('Hearts', 'Diamonds', 'Spades', 'Clubs')\n",
    "ranks = ('Two','Three','Four','Five','Six','Seven','Eight','Nine','Ten','Jack','Queen','King','Ace')\n",
    "values = {'Two':2,'Three':3,'Four':4,'Five':5,'Six':6,'Seven':7,'Eight':8,'Nine':9,'Ten':10,'Jack':10,'Queen':10,'King':10,'Ace':11}\n",
    "playing = True"
   ]
  },
  {
   "cell_type": "code",
   "execution_count": 2,
   "metadata": {},
   "outputs": [],
   "source": [
    "class Card:\n",
    "    \n",
    "    def __init__(self, suit, rank):\n",
    "        self.suit = suit\n",
    "        self.rank = rank\n",
    "    \n",
    "    def __str__(self):\n",
    "        return f\"{self.rank} of {self.suit}\""
   ]
  },
  {
   "cell_type": "code",
   "execution_count": 3,
   "metadata": {},
   "outputs": [],
   "source": [
    "class Deck:\n",
    "    \n",
    "    def __init__(self):\n",
    "        self.deck = []\n",
    "        for suit in suits:\n",
    "            for rank in ranks:\n",
    "                self.deck.append(Card(suit, rank))\n",
    "    \n",
    "    def __str__(self):\n",
    "        deck_comp = \"\"\n",
    "        for card in self.deck:\n",
    "            deck_comp += '\\n' + card.__str__()\n",
    "        return f\"The deck has: \" + deck_comp\n",
    "    \n",
    "    def shuffle(self):\n",
    "        random.shuffle(self.deck)\n",
    "        \n",
    "    def deal(self):\n",
    "        single_card = self.deck.pop()\n",
    "        return single_card"
   ]
  },
  {
   "cell_type": "code",
   "execution_count": 4,
   "metadata": {},
   "outputs": [],
   "source": [
    "test_deck = Deck()"
   ]
  },
  {
   "cell_type": "code",
   "execution_count": 5,
   "metadata": {},
   "outputs": [
    {
     "name": "stdout",
     "output_type": "stream",
     "text": [
      "The deck has: \n",
      "Jack of Diamonds\n",
      "Seven of Spades\n",
      "Ace of Spades\n",
      "Two of Spades\n",
      "Ace of Hearts\n",
      "Six of Clubs\n",
      "King of Hearts\n",
      "Eight of Diamonds\n",
      "Three of Spades\n",
      "Two of Clubs\n",
      "Jack of Clubs\n",
      "Nine of Diamonds\n",
      "Five of Hearts\n",
      "Five of Spades\n",
      "Eight of Clubs\n",
      "Two of Hearts\n",
      "Four of Hearts\n",
      "Nine of Clubs\n",
      "Ten of Hearts\n",
      "Four of Spades\n",
      "Four of Clubs\n",
      "Three of Diamonds\n",
      "Seven of Diamonds\n",
      "Queen of Diamonds\n",
      "Jack of Spades\n",
      "Ten of Diamonds\n",
      "Ten of Spades\n",
      "Seven of Clubs\n",
      "Four of Diamonds\n",
      "Five of Clubs\n",
      "Six of Diamonds\n",
      "Queen of Clubs\n",
      "Six of Hearts\n",
      "Queen of Spades\n",
      "King of Diamonds\n",
      "Ace of Diamonds\n",
      "Eight of Spades\n",
      "Queen of Hearts\n",
      "Ten of Clubs\n",
      "Seven of Hearts\n",
      "King of Clubs\n",
      "Eight of Hearts\n",
      "Six of Spades\n",
      "Five of Diamonds\n",
      "Three of Clubs\n",
      "Nine of Spades\n",
      "Nine of Hearts\n",
      "Jack of Hearts\n",
      "Two of Diamonds\n",
      "King of Spades\n",
      "Ace of Clubs\n",
      "Three of Hearts\n"
     ]
    }
   ],
   "source": [
    "test_deck.shuffle()\n",
    "print(test_deck)"
   ]
  },
  {
   "cell_type": "code",
   "execution_count": 13,
   "metadata": {},
   "outputs": [],
   "source": [
    "class Hand:\n",
    "    \n",
    "    def __init__(self):\n",
    "        self.cards = []\n",
    "        self.value = 0\n",
    "        self.aces = 0\n",
    "        \n",
    "    def add_card(self, card):\n",
    "        self.cards.append(card)\n",
    "        self.value += values[card.rank]\n",
    "        \n",
    "        if card.rank == 'Ace':\n",
    "            self.aces += 1\n",
    "        \n",
    "        \n",
    "    def adjust_for_ace(self):\n",
    "        while(self.value > 21 and self.aces):\n",
    "            self.value -= 10\n",
    "            self.aces -= 1\n",
    "        "
   ]
  },
  {
   "cell_type": "code",
   "execution_count": 14,
   "metadata": {},
   "outputs": [
    {
     "name": "stdout",
     "output_type": "stream",
     "text": [
      "Nine of Diamonds\n",
      "9\n"
     ]
    }
   ],
   "source": [
    "test_deck = Deck()\n",
    "test_deck.shuffle()\n",
    "\n",
    "test_player = Hand()\n",
    "pulled_card = test_deck.deal()\n",
    "print(pulled_card)\n",
    "test_player.add_card(pulled_card)\n",
    "print(test_player.value)"
   ]
  },
  {
   "cell_type": "code",
   "execution_count": 15,
   "metadata": {},
   "outputs": [
    {
     "name": "stdout",
     "output_type": "stream",
     "text": [
      "Three of Spades\n",
      "12\n"
     ]
    }
   ],
   "source": [
    "pulled_card = test_deck.deal()\n",
    "print(pulled_card)\n",
    "test_player.add_card(pulled_card)\n",
    "print(test_player.value)"
   ]
  },
  {
   "cell_type": "code",
   "execution_count": 16,
   "metadata": {},
   "outputs": [],
   "source": [
    "class Chips:\n",
    "    \n",
    "    def __init__(self, total=100):\n",
    "        self.total = total\n",
    "        self.bet = 0\n",
    "        \n",
    "        def win_bet(self):\n",
    "            self.total += self.bet\n",
    "        \n",
    "        def lose_bet(self):\n",
    "            self.total -= self.bet"
   ]
  },
  {
   "cell_type": "code",
   "execution_count": 17,
   "metadata": {},
   "outputs": [],
   "source": [
    "# Game:"
   ]
  },
  {
   "cell_type": "code",
   "execution_count": 18,
   "metadata": {},
   "outputs": [],
   "source": [
    "def take_bet(chips):\n",
    "    while True:\n",
    "        try:\n",
    "            chips.bet = int(input(\"How many chips would you like to bet? \"))\n",
    "        except:\n",
    "            print(\"Sorry, Please provide an integer\")\n",
    "        else:\n",
    "            if chips.bet > chips.total:\n",
    "                print(f\"Sorry, You don't have enough chips! You have: {chips.total}\")\n",
    "            else:\n",
    "                break"
   ]
  },
  {
   "cell_type": "code",
   "execution_count": 19,
   "metadata": {},
   "outputs": [],
   "source": [
    "def hit(deck, hand):\n",
    "    hand.add_card()\n",
    "    hand.adjust_for_ace()"
   ]
  },
  {
   "cell_type": "code",
   "execution_count": 20,
   "metadata": {},
   "outputs": [],
   "source": [
    "def hit_or_stand(deck, hand):\n",
    "    global playing\n",
    "    \n",
    "    while True:\n",
    "        x = input('Hit or Stand? Enter h or s ')\n",
    "        \n",
    "        if x[0].lower() == 'h':\n",
    "            hit(deck, hand)\n",
    "            \n",
    "        elif x[0].lower() == 's':\n",
    "            print(\"Player stands, Dealer's turn\")\n",
    "            playing = False\n",
    "        \n",
    "        else:\n",
    "            print('Sorry, I did not understand, Please enter h or s only!')\n",
    "            continue\n",
    "        \n",
    "        break"
   ]
  },
  {
   "cell_type": "code",
   "execution_count": 21,
   "metadata": {},
   "outputs": [],
   "source": [
    "def player_busts(player, dealer, chips):\n",
    "    print(\"Bust player\")\n",
    "    chips.lose_bet()\n",
    "\n",
    "def player_wins(player, dealer, chips):\n",
    "    print(\"Player wins!!\")\n",
    "    chips.win_bet()\n",
    "\n",
    "def dealer_busts(player, dealer, chips):\n",
    "    print(\"Player wins!! Dealer BUSTED!\")\n",
    "    chips.win_bet()\n",
    "\n",
    "def dealer_wins(player, dealer, chips):\n",
    "    print(\"Dealer Wins!\")\n",
    "    chips.lose_bet()\n",
    "\n",
    "def push (player, dealer):\n",
    "    print('Dealer and Player Tie! PUSH')"
   ]
  },
  {
   "cell_type": "code",
   "execution_count": 22,
   "metadata": {},
   "outputs": [
    {
     "name": "stdout",
     "output_type": "stream",
     "text": [
      "Welcome To BLACKJACK\n",
      "How many chips would you like to bet? 300\n",
      "Sorry, You don't have enough chips! You have: 100\n",
      "How many chips would you like to bet? 50\n"
     ]
    },
    {
     "ename": "NameError",
     "evalue": "name 'show_some' is not defined",
     "output_type": "error",
     "traceback": [
      "\u001b[1;31m---------------------------------------------------------------------------\u001b[0m",
      "\u001b[1;31mNameError\u001b[0m                                 Traceback (most recent call last)",
      "\u001b[1;32m<ipython-input-22-b481a1dd6b25>\u001b[0m in \u001b[0;36m<module>\u001b[1;34m\u001b[0m\n\u001b[0;32m     17\u001b[0m     \u001b[0mtake_bet\u001b[0m\u001b[1;33m(\u001b[0m\u001b[0mplayer_chips\u001b[0m\u001b[1;33m)\u001b[0m\u001b[1;33m\u001b[0m\u001b[1;33m\u001b[0m\u001b[0m\n\u001b[0;32m     18\u001b[0m \u001b[1;33m\u001b[0m\u001b[0m\n\u001b[1;32m---> 19\u001b[1;33m     \u001b[0mshow_some\u001b[0m\u001b[1;33m(\u001b[0m\u001b[0mplayer_hand\u001b[0m\u001b[1;33m,\u001b[0m \u001b[0mdealer_hand\u001b[0m\u001b[1;33m)\u001b[0m\u001b[1;33m\u001b[0m\u001b[1;33m\u001b[0m\u001b[0m\n\u001b[0m\u001b[0;32m     20\u001b[0m \u001b[1;33m\u001b[0m\u001b[0m\n\u001b[0;32m     21\u001b[0m     \u001b[1;32mwhile\u001b[0m \u001b[0mplaying\u001b[0m\u001b[1;33m:\u001b[0m\u001b[1;33m\u001b[0m\u001b[1;33m\u001b[0m\u001b[0m\n",
      "\u001b[1;31mNameError\u001b[0m: name 'show_some' is not defined"
     ]
    }
   ],
   "source": [
    "while True:\n",
    "    \n",
    "    print(\"Welcome To BLACKJACK\")\n",
    "    deck = Deck()\n",
    "    deck.shuffle()\n",
    "    \n",
    "    player_hand = Hand()\n",
    "    player_hand.add_card(deck.deal())\n",
    "    player_hand.add_card(deck.deal())\n",
    "    \n",
    "    dealer_hand = Hand()\n",
    "    dealer_hand.add_card(deck.deal())\n",
    "    dealer_hand.add_card(deck.deal())\n",
    "    \n",
    "    player_chips = Chips()\n",
    "    \n",
    "    take_bet(player_chips)\n",
    "    \n",
    "    show_some(player_hand, dealer_hand)\n",
    "    \n",
    "    while playing:\n",
    "        \n",
    "        hit_or_stand(deck, player_hand)\n",
    "        \n",
    "        show_some(player_hand, dealer_hand)\n",
    "        \n",
    "        if player_hand.value > 21:\n",
    "            player_busts(player_hand, dealer_hand, player_chips)\n",
    "            break\n",
    "            \n",
    "    if player_hand.value <= 21:\n",
    "        \n",
    "        while dealer_hand.value < player_hand.value:\n",
    "            hit(deck, dealer_hand)\n",
    "            \n",
    "        show_all(player_hand, dealer_hand)\n",
    "        \n",
    "        if dealer_hand.value>21:\n",
    "            dealer_busts(player_hand, dealer_hand, player_chips)\n",
    "        elif dealer_hand.value > player_hand.value:\n",
    "            dealer_wins(player_hand, dealer_hand, player_chips)\n",
    "        elif dealer_handvalue < player_hand.value:\n",
    "            player_wins(player_hand, dealer_hand, player_chips)\n",
    "        else:\n",
    "            push(player_hand, dealer_hand)\n",
    "            \n",
    "    print(f\"\\n Player total chips are at: {player_chips.total}\")\n",
    "    new_game = input(\"Would you like to play other hand? y/n\")\n",
    "    \n",
    "    if new_game[0].lower == 'y':\n",
    "        playing = True\n",
    "        continue\n",
    "    else:\n",
    "        print(\"Thank you for playing!\")\n",
    "        \n",
    "        break\n",
    "            "
   ]
  },
  {
   "cell_type": "code",
   "execution_count": null,
   "metadata": {},
   "outputs": [],
   "source": []
  }
 ],
 "metadata": {
  "kernelspec": {
   "display_name": "Python 3",
   "language": "python",
   "name": "python3"
  },
  "language_info": {
   "codemirror_mode": {
    "name": "ipython",
    "version": 3
   },
   "file_extension": ".py",
   "mimetype": "text/x-python",
   "name": "python",
   "nbconvert_exporter": "python",
   "pygments_lexer": "ipython3",
   "version": "3.7.6"
  }
 },
 "nbformat": 4,
 "nbformat_minor": 4
}
