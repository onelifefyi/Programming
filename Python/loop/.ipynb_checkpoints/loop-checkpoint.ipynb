{
 "cells": [
  {
   "cell_type": "code",
   "execution_count": 2,
   "metadata": {},
   "outputs": [
    {
     "name": "stdout",
     "output_type": "stream",
     "text": [
      "current value of x is 0\n",
      "current value of x is 1\n",
      "current value of x is 2\n",
      "current value of x is 3\n",
      "current value of x is 4\n",
      "x isn't less than 5\n"
     ]
    }
   ],
   "source": [
    "x = 0\n",
    "while x < 5:\n",
    "    print(f\"current value of x is {x}\")\n",
    "    x += 1\n",
    "else:\n",
    "    print(\"x isn't less than 5\")"
   ]
  },
  {
   "cell_type": "code",
   "execution_count": 3,
   "metadata": {},
   "outputs": [
    {
     "name": "stdout",
     "output_type": "stream",
     "text": [
      "even number 2\n",
      "even number 4\n",
      "even number 6\n",
      "even number 8\n",
      "even number 10\n",
      "even number 12\n",
      "even number 14\n",
      "even number 16\n",
      "even number 18\n",
      "even number 20\n",
      "even number 22\n",
      "even number 24\n",
      "even number 26\n",
      "even number 28\n",
      "even number 30\n",
      "even number 32\n",
      "even number 34\n",
      "even number 36\n",
      "even number 38\n",
      "even number 40\n",
      "even number 42\n",
      "even number 44\n",
      "even number 46\n",
      "even number 48\n",
      "even number 50\n",
      "even number 52\n",
      "even number 54\n",
      "even number 56\n",
      "even number 58\n",
      "even number 60\n",
      "even number 62\n",
      "even number 64\n",
      "even number 66\n",
      "even number 68\n",
      "even number 70\n",
      "even number 72\n",
      "even number 74\n",
      "even number 76\n",
      "even number 78\n",
      "even number 80\n",
      "even number 82\n",
      "even number 84\n",
      "even number 86\n",
      "even number 88\n",
      "even number 90\n",
      "even number 92\n",
      "even number 94\n",
      "even number 96\n",
      "even number 98\n",
      "even number 100\n",
      "x is greater than 100\n"
     ]
    }
   ],
   "source": [
    "x = 0\n",
    "while x < 101:\n",
    "    x += 1\n",
    "    if x % 2 == 0:\n",
    "        print(f\"even number {x}\")\n",
    "    else:\n",
    "        continue;\n",
    "else:\n",
    "    print(\"x is greater than 100\")"
   ]
  },
  {
   "cell_type": "code",
   "execution_count": 4,
   "metadata": {},
   "outputs": [
    {
     "ename": "SyntaxError",
     "evalue": "unexpected EOF while parsing (<ipython-input-4-f9f8cc271a57>, line 4)",
     "output_type": "error",
     "traceback": [
      "\u001b[1;36m  File \u001b[1;32m\"<ipython-input-4-f9f8cc271a57>\"\u001b[1;36m, line \u001b[1;32m4\u001b[0m\n\u001b[1;33m    #comment\u001b[0m\n\u001b[1;37m            ^\u001b[0m\n\u001b[1;31mSyntaxError\u001b[0m\u001b[1;31m:\u001b[0m unexpected EOF while parsing\n"
     ]
    }
   ],
   "source": [
    "x = [1,2,3]\n",
    "\n",
    "for item in x:\n",
    "    #comment"
   ]
  },
  {
   "cell_type": "code",
   "execution_count": 9,
   "metadata": {},
   "outputs": [],
   "source": [
    "x = [1,2,3]\n",
    "for item in x:\n",
    "    pass"
   ]
  },
  {
   "cell_type": "code",
   "execution_count": 10,
   "metadata": {},
   "outputs": [],
   "source": [
    "my_string = \"Apoorv\""
   ]
  },
  {
   "cell_type": "code",
   "execution_count": 12,
   "metadata": {},
   "outputs": [
    {
     "name": "stdout",
     "output_type": "stream",
     "text": [
      "A\n",
      "p\n",
      "r\n",
      "v\n"
     ]
    }
   ],
   "source": [
    "for letter in my_string:\n",
    "    if letter == 'o':\n",
    "        continue\n",
    "    print(letter)"
   ]
  },
  {
   "cell_type": "code",
   "execution_count": 13,
   "metadata": {},
   "outputs": [
    {
     "name": "stdout",
     "output_type": "stream",
     "text": [
      "A\n",
      "p\n",
      "o\n",
      "o\n"
     ]
    }
   ],
   "source": [
    "for letter in my_string:\n",
    "    if letter == 'r':\n",
    "        break\n",
    "    print(letter)"
   ]
  },
  {
   "cell_type": "code",
   "execution_count": null,
   "metadata": {},
   "outputs": [],
   "source": []
  }
 ],
 "metadata": {
  "kernelspec": {
   "display_name": "Python 3",
   "language": "python",
   "name": "python3"
  },
  "language_info": {
   "codemirror_mode": {
    "name": "ipython",
    "version": 3
   },
   "file_extension": ".py",
   "mimetype": "text/x-python",
   "name": "python",
   "nbconvert_exporter": "python",
   "pygments_lexer": "ipython3",
   "version": "3.7.6"
  }
 },
 "nbformat": 4,
 "nbformat_minor": 4
}
