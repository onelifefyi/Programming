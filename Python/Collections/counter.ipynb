{
 "cells": [
  {
   "cell_type": "code",
   "execution_count": 2,
   "metadata": {},
   "outputs": [],
   "source": [
    "from collections import Counter"
   ]
  },
  {
   "cell_type": "code",
   "execution_count": 3,
   "metadata": {},
   "outputs": [],
   "source": [
    "l = [1,21,12,312,3,123,12,312,32,13,123,123,1234]"
   ]
  },
  {
   "cell_type": "code",
   "execution_count": 4,
   "metadata": {},
   "outputs": [
    {
     "data": {
      "text/plain": [
       "Counter({1: 1, 21: 1, 12: 2, 312: 2, 3: 1, 123: 3, 32: 1, 13: 1, 1234: 1})"
      ]
     },
     "execution_count": 4,
     "metadata": {},
     "output_type": "execute_result"
    }
   ],
   "source": [
    "Counter(l)"
   ]
  },
  {
   "cell_type": "code",
   "execution_count": 6,
   "metadata": {},
   "outputs": [
    {
     "data": {
      "text/plain": [
       "Counter({'a': 1,\n",
       "         'l': 1,\n",
       "         'j': 8,\n",
       "         'f': 10,\n",
       "         'h': 9,\n",
       "         'd': 4,\n",
       "         'u': 1,\n",
       "         'p': 5,\n",
       "         's': 7,\n",
       "         'g': 4,\n",
       "         'i': 3,\n",
       "         'o': 4,\n",
       "         '[': 1})"
      ]
     },
     "execution_count": 6,
     "metadata": {},
     "output_type": "execute_result"
    }
   ],
   "source": [
    "s = \"aljfhdupfhsdpghifghsiodfjgofjpgijfshjfspohfsphjfsh[jofsjdh\"\n",
    "Counter(s)"
   ]
  },
  {
   "cell_type": "code",
   "execution_count": 20,
   "metadata": {},
   "outputs": [],
   "source": [
    "st = \"how many times each word show up in this sentence word word shoe plant javac is possible why and what and how is it possible?\""
   ]
  },
  {
   "cell_type": "code",
   "execution_count": 21,
   "metadata": {},
   "outputs": [
    {
     "data": {
      "text/plain": [
       "Counter({'h': 8,\n",
       "         'o': 9,\n",
       "         'w': 8,\n",
       "         ' ': 24,\n",
       "         'm': 2,\n",
       "         'a': 8,\n",
       "         'n': 7,\n",
       "         'y': 2,\n",
       "         't': 6,\n",
       "         'i': 8,\n",
       "         'e': 8,\n",
       "         's': 11,\n",
       "         'c': 3,\n",
       "         'r': 3,\n",
       "         'd': 5,\n",
       "         'u': 1,\n",
       "         'p': 4,\n",
       "         'l': 3,\n",
       "         'j': 1,\n",
       "         'v': 1,\n",
       "         'b': 2,\n",
       "         '?': 1})"
      ]
     },
     "execution_count": 21,
     "metadata": {},
     "output_type": "execute_result"
    }
   ],
   "source": [
    "Counter(st)"
   ]
  },
  {
   "cell_type": "code",
   "execution_count": 22,
   "metadata": {},
   "outputs": [],
   "source": [
    "words = st.split()"
   ]
  },
  {
   "cell_type": "code",
   "execution_count": 23,
   "metadata": {},
   "outputs": [
    {
     "data": {
      "text/plain": [
       "['how',\n",
       " 'many',\n",
       " 'times',\n",
       " 'each',\n",
       " 'word',\n",
       " 'show',\n",
       " 'up',\n",
       " 'in',\n",
       " 'this',\n",
       " 'sentence',\n",
       " 'word',\n",
       " 'word',\n",
       " 'shoe',\n",
       " 'plant',\n",
       " 'javac',\n",
       " 'is',\n",
       " 'possible',\n",
       " 'why',\n",
       " 'and',\n",
       " 'what',\n",
       " 'and',\n",
       " 'how',\n",
       " 'is',\n",
       " 'it',\n",
       " 'possible?']"
      ]
     },
     "execution_count": 23,
     "metadata": {},
     "output_type": "execute_result"
    }
   ],
   "source": [
    "words"
   ]
  },
  {
   "cell_type": "code",
   "execution_count": 24,
   "metadata": {},
   "outputs": [
    {
     "data": {
      "text/plain": [
       "Counter({'how': 2,\n",
       "         'many': 1,\n",
       "         'times': 1,\n",
       "         'each': 1,\n",
       "         'word': 3,\n",
       "         'show': 1,\n",
       "         'up': 1,\n",
       "         'in': 1,\n",
       "         'this': 1,\n",
       "         'sentence': 1,\n",
       "         'shoe': 1,\n",
       "         'plant': 1,\n",
       "         'javac': 1,\n",
       "         'is': 2,\n",
       "         'possible': 1,\n",
       "         'why': 1,\n",
       "         'and': 2,\n",
       "         'what': 1,\n",
       "         'it': 1,\n",
       "         'possible?': 1})"
      ]
     },
     "execution_count": 24,
     "metadata": {},
     "output_type": "execute_result"
    }
   ],
   "source": [
    "Counter(words)"
   ]
  },
  {
   "cell_type": "code",
   "execution_count": 25,
   "metadata": {},
   "outputs": [],
   "source": [
    "c = Counter(words)"
   ]
  },
  {
   "cell_type": "code",
   "execution_count": 26,
   "metadata": {},
   "outputs": [
    {
     "data": {
      "text/plain": [
       "[('word', 3), ('how', 2), ('is', 2)]"
      ]
     },
     "execution_count": 26,
     "metadata": {},
     "output_type": "execute_result"
    }
   ],
   "source": [
    "c.most_common(3)"
   ]
  },
  {
   "cell_type": "code",
   "execution_count": 28,
   "metadata": {},
   "outputs": [
    {
     "data": {
      "text/plain": [
       "25"
      ]
     },
     "execution_count": 28,
     "metadata": {},
     "output_type": "execute_result"
    }
   ],
   "source": [
    "sum(c.values())"
   ]
  },
  {
   "cell_type": "code",
   "execution_count": 29,
   "metadata": {},
   "outputs": [
    {
     "data": {
      "text/plain": [
       "<function Counter.values>"
      ]
     },
     "execution_count": 29,
     "metadata": {},
     "output_type": "execute_result"
    }
   ],
   "source": [
    "c.values"
   ]
  },
  {
   "cell_type": "code",
   "execution_count": 30,
   "metadata": {},
   "outputs": [
    {
     "data": {
      "text/plain": [
       "{'and',\n",
       " 'each',\n",
       " 'how',\n",
       " 'in',\n",
       " 'is',\n",
       " 'it',\n",
       " 'javac',\n",
       " 'many',\n",
       " 'plant',\n",
       " 'possible',\n",
       " 'possible?',\n",
       " 'sentence',\n",
       " 'shoe',\n",
       " 'show',\n",
       " 'this',\n",
       " 'times',\n",
       " 'up',\n",
       " 'what',\n",
       " 'why',\n",
       " 'word'}"
      ]
     },
     "execution_count": 30,
     "metadata": {},
     "output_type": "execute_result"
    }
   ],
   "source": [
    "set(c)"
   ]
  },
  {
   "cell_type": "code",
   "execution_count": 31,
   "metadata": {},
   "outputs": [
    {
     "data": {
      "text/plain": [
       "[('word', 3),\n",
       " ('how', 2),\n",
       " ('is', 2),\n",
       " ('and', 2),\n",
       " ('many', 1),\n",
       " ('times', 1),\n",
       " ('each', 1),\n",
       " ('show', 1),\n",
       " ('up', 1),\n",
       " ('in', 1),\n",
       " ('this', 1),\n",
       " ('sentence', 1),\n",
       " ('shoe', 1),\n",
       " ('plant', 1),\n",
       " ('javac', 1),\n",
       " ('possible', 1),\n",
       " ('why', 1),\n",
       " ('what', 1),\n",
       " ('it', 1),\n",
       " ('possible?', 1)]"
      ]
     },
     "execution_count": 31,
     "metadata": {},
     "output_type": "execute_result"
    }
   ],
   "source": [
    "c.most_common()"
   ]
  },
  {
   "cell_type": "code",
   "execution_count": null,
   "metadata": {},
   "outputs": [],
   "source": []
  }
 ],
 "metadata": {
  "kernelspec": {
   "display_name": "Python 3",
   "language": "python",
   "name": "python3"
  },
  "language_info": {
   "codemirror_mode": {
    "name": "ipython",
    "version": 3
   },
   "file_extension": ".py",
   "mimetype": "text/x-python",
   "name": "python",
   "nbconvert_exporter": "python",
   "pygments_lexer": "ipython3",
   "version": "3.7.6"
  }
 },
 "nbformat": 4,
 "nbformat_minor": 4
}
